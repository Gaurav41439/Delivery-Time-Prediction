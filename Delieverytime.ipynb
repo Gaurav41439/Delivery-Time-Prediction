{
  "nbformat": 4,
  "nbformat_minor": 0,
  "metadata": {
    "colab": {
      "provenance": []
    },
    "kernelspec": {
      "name": "python3",
      "display_name": "Python 3"
    },
    "language_info": {
      "name": "python"
    }
  },
  "cells": [
    {
      "cell_type": "code",
      "execution_count": 5,
      "metadata": {
        "id": "1aSZWow66dFA"
      },
      "outputs": [],
      "source": [
        "import pandas as pd\n",
        "import numpy as np\n",
        "import plotly.express as px\n",
        "import io\n",
        "#from sklearn.cross_validation import train_test_split\n",
        "from sklearn.model_selection import train_test_split\n",
        "from sklearn.metrics import accuracy_score\n",
        "from sklearn.tree import DecisionTreeClassifier\n",
        "#from google.colab import files\n",
        "#uploaded = files.upload()\n",
        "# Dataset is now stored in a Pandas Dataframe\n",
        "\n",
        "data = pd.read_csv(\"deliverytime.csv\")\n",
        "\n"
      ]
    },
    {
      "cell_type": "code",
      "source": [
        "#converting latitudes and longitudes to distance b/w restraunt and delivery location\n",
        "# Set the earth's radius (in kilometers)\n",
        "R = 6371\n",
        "\n",
        "# Convert degrees to radians\n",
        "def deg_to_rad(degrees):\n",
        "    return degrees * (np.pi/180)\n",
        "\n",
        "# Function to calculate the distance between two points using the haversine formula\n",
        "def distcalculate(lat1, lon1, lat2, lon2):\n",
        "    d_lat = deg_to_rad(lat2-lat1)\n",
        "    d_lon = deg_to_rad(lon2-lon1)\n",
        "    a = np.sin(d_lat/2)**2 + np.cos(deg_to_rad(lat1)) * np.cos(deg_to_rad(lat2)) * np.sin(d_lon/2)**2\n",
        "    c = 2 * np.arctan2(np.sqrt(a), np.sqrt(1-a))\n",
        "    return R * c\n",
        "  \n",
        "# Calculate the distance between each pair of points\n",
        "data['distance'] = np.nan\n",
        "\n",
        "for i in range(len(data)):\n",
        "    data.loc[i, 'distance'] = distcalculate(data.loc[i, 'Restaurant_latitude'], \n",
        "                                        data.loc[i, 'Restaurant_longitude'], \n",
        "                                        data.loc[i, 'Delivery_location_latitude'], \n",
        "                                        data.loc[i, 'Delivery_location_longitude'])\n"
      ],
      "metadata": {
        "id": "KHHMGlMZ_nyc"
      },
      "execution_count": 6,
      "outputs": []
    },
    {
      "cell_type": "code",
      "source": [
        "#graph to show relation b/w distance and time taken\n",
        "figure = px.scatter(data_frame = data, \n",
        "                    x=\"distance\",\n",
        "                    y=\"Time_taken(min)\", \n",
        "                    size=\"Time_taken(min)\", \n",
        "                    trendline=\"ols\", \n",
        "                    title = \"Relationship Between Distance and Time Taken\")\n",
        "figure.show()"
      ],
      "metadata": {
        "id": "V4C-DsVAePDZ"
      },
      "execution_count": null,
      "outputs": []
    },
    {
      "cell_type": "code",
      "source": [
        "#graph to show relation b/w time taken and age\n",
        "figure = px.scatter(data_frame = data, \n",
        "                    x=\"Delivery_person_Age\",\n",
        "                    y=\"Time_taken(min)\", \n",
        "                    size=\"Time_taken(min)\", \n",
        "                    color = \"distance\",\n",
        "                    trendline=\"ols\", \n",
        "                    title = \"Relationship Between Time Taken and Age\")\n",
        "figure.show()"
      ],
      "metadata": {
        "id": "HTwlkWLieZ-x"
      },
      "execution_count": null,
      "outputs": []
    },
    {
      "cell_type": "code",
      "source": [
        "#graph to show relation b/w time taken and ratings\n",
        "figure = px.scatter(data_frame = data, \n",
        "                    x=\"Delivery_person_Ratings\",\n",
        "                    y=\"Time_taken(min)\", \n",
        "                    size=\"Time_taken(min)\", \n",
        "                    color = \"distance\",\n",
        "                    trendline=\"ols\", \n",
        "                    title = \"Relationship Between Time Taken and Ratings\")\n",
        "figure.show()"
      ],
      "metadata": {
        "id": "RAjwNnA6eh-x"
      },
      "execution_count": null,
      "outputs": []
    },
    {
      "cell_type": "markdown",
      "source": [
        "# New section"
      ],
      "metadata": {
        "id": "YDi0e3Ze921R"
      }
    },
    {
      "cell_type": "code",
      "source": [
        "x = data.drop([\"Time_taken(min)\", \"Delivery_person_ID\", \"Restaurant_latitude\", \"Restaurant_longitude\", \"Delivery_location_latitude\", \"Delivery_location_longitude\", \"Type_of_order\"], axis =1)\n",
        "y = data['Time_taken(min)']\n",
        "x_train,x_test,y_train,y_test = train_test_split(x,y, test_size = 0.2, random_state=42)\n",
        "\n",
        "x = np.array(data[[\"Delivery_person_Age\", \n",
        "                   \"Delivery_person_Ratings\", \n",
        "                   \"distance\"]])\n",
        "y = np.array(data[[\"Time_taken(min)\"]])\n",
        "xtrain, xtest, ytrain, ytest = train_test_split(x, y, \n",
        "                                                test_size=0.10, \n",
        "                                                random_state=42)\n",
        "\n",
        "# creating the LSTM neural network model\n",
        "from keras.models import Sequential\n",
        "from keras.layers import Dense, LSTM\n",
        "model = Sequential()\n",
        "model.add(LSTM(128, return_sequences=True, input_shape= (xtrain.shape[1], 1)))\n",
        "model.add(LSTM(64, return_sequences=False))\n",
        "model.add(Dense(25))\n",
        "model.add(Dense(1))\n",
        "model.summary()\n",
        "\n",
        "model.compile(optimizer='adam', loss='mean_squared_error')\n",
        "model.fit(xtrain, ytrain, batch_size=1, epochs=10)\n"
      ],
      "metadata": {
        "id": "dQZfdGVbA8KZ",
        "colab": {
          "base_uri": "https://localhost:8080/"
        },
        "outputId": "3435be9c-6f9d-4e55-b371-dea52f9f9e5f"
      },
      "execution_count": 30,
      "outputs": [
        {
          "output_type": "stream",
          "name": "stdout",
          "text": [
            "Model: \"sequential_12\"\n",
            "_________________________________________________________________\n",
            " Layer (type)                Output Shape              Param #   \n",
            "=================================================================\n",
            " lstm_24 (LSTM)              (None, 3, 128)            66560     \n",
            "                                                                 \n",
            " lstm_25 (LSTM)              (None, 64)                49408     \n",
            "                                                                 \n",
            " dense_24 (Dense)            (None, 25)                1625      \n",
            "                                                                 \n",
            " dense_25 (Dense)            (None, 1)                 26        \n",
            "                                                                 \n",
            "=================================================================\n",
            "Total params: 117,619\n",
            "Trainable params: 117,619\n",
            "Non-trainable params: 0\n",
            "_________________________________________________________________\n",
            "Epoch 1/10\n",
            "41033/41033 [==============================] - 252s 6ms/step - loss: 69.4061\n",
            "Epoch 2/10\n",
            "41033/41033 [==============================] - 245s 6ms/step - loss: 64.2633\n",
            "Epoch 3/10\n",
            "41033/41033 [==============================] - 240s 6ms/step - loss: 61.8864\n",
            "Epoch 4/10\n",
            "41033/41033 [==============================] - 249s 6ms/step - loss: 60.6976\n",
            "Epoch 5/10\n",
            "41033/41033 [==============================] - 263s 6ms/step - loss: 59.7781\n",
            "Epoch 6/10\n",
            "41033/41033 [==============================] - 254s 6ms/step - loss: 59.5150\n",
            "Epoch 7/10\n",
            "41033/41033 [==============================] - 242s 6ms/step - loss: 59.6612\n",
            "Epoch 8/10\n",
            "41033/41033 [==============================] - 240s 6ms/step - loss: 59.4145\n",
            "Epoch 9/10\n",
            "41033/41033 [==============================] - 239s 6ms/step - loss: 58.8853\n",
            "Epoch 10/10\n",
            "41033/41033 [==============================] - 239s 6ms/step - loss: 58.6383\n"
          ]
        },
        {
          "output_type": "execute_result",
          "data": {
            "text/plain": [
              "<keras.callbacks.History at 0x7fc49c112550>"
            ]
          },
          "metadata": {},
          "execution_count": 30
        }
      ]
    },
    {
      "cell_type": "code",
      "source": [
        "print(\"Food Delivery Time Prediction\")\n",
        "a = int(input(\"Age of Delivery Partner: \"))\n",
        "b = float(input(\"Ratings of Previous Deliveries: \"))\n",
        "c = int(input(\"Total Distance: \"))\n",
        "\n",
        "features = np.array([[a, b, c]])\n",
        "print(\"Predicted Delivery Time in Minutes = \", model.predict(features))"
      ],
      "metadata": {
        "colab": {
          "base_uri": "https://localhost:8080/"
        },
        "id": "6mn9bb3Ncm-H",
        "outputId": "a3fec3a1-d669-4465-8341-dfee8c3f515a"
      },
      "execution_count": 38,
      "outputs": [
        {
          "output_type": "stream",
          "name": "stdout",
          "text": [
            "Food Delivery Time Prediction\n",
            "Age of Delivery Partner: 19\n",
            "Ratings of Previous Deliveries: 3.4\n",
            "Total Distance: 4\n",
            "1/1 [==============================] - 0s 32ms/step\n",
            "Predicted Delivery Time in Minutes =  [[41.91416]]\n"
          ]
        }
      ]
    }
  ]
}